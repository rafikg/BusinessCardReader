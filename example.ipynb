{
  "nbformat": 4,
  "nbformat_minor": 0,
  "metadata": {
    "colab": {
      "name": "Untitled5.ipynb",
      "provenance": [],
      "collapsed_sections": [],
      "authorship_tag": "ABX9TyNpPHXbXEY647dHiqLewAVW",
      "include_colab_link": true
    },
    "kernelspec": {
      "name": "python3",
      "display_name": "Python 3"
    },
    "language_info": {
      "name": "python"
    },
    "accelerator": "GPU"
  },
  "cells": [
    {
      "cell_type": "markdown",
      "metadata": {
        "id": "view-in-github",
        "colab_type": "text"
      },
      "source": [
        "<a href=\"https://colab.research.google.com/github/rafikg/BusinessCardReader/blob/master/example.ipynb\" target=\"_parent\"><img src=\"https://colab.research.google.com/assets/colab-badge.svg\" alt=\"Open In Colab\"/></a>"
      ]
    },
    {
      "cell_type": "code",
      "metadata": {
        "id": "tzNcP7vNTuu1"
      },
      "source": [
        "\n",
        "import numpy as np\n",
        "from tensorflow import keras\n",
        "from tensorflow.keras import layers\n",
        "import tensorflow as tf\n",
        "from tensorflow.keras.metrics import Precision, Recall\n"
      ],
      "execution_count": 8,
      "outputs": []
    },
    {
      "cell_type": "code",
      "metadata": {
        "colab": {
          "base_uri": "https://localhost:8080/"
        },
        "id": "rdP15GE6T2rB",
        "outputId": "259b51c8-e0ac-4e48-e77d-f83b2428e796"
      },
      "source": [
        "# Model / data parameters\n",
        "num_classes = 10\n",
        "input_shape = (28, 28, 1)\n",
        "\n",
        "# the data, split between train and test sets\n",
        "(x_train, y_train), (x_test, y_test) = keras.datasets.mnist.load_data()\n",
        "\n",
        "# Scale images to the [0, 1] range\n",
        "x_train = x_train.astype(\"float32\") / 255\n",
        "x_test = x_test.astype(\"float32\") / 255\n",
        "# Make sure images have shape (28, 28, 1)\n",
        "x_train = np.expand_dims(x_train, -1)\n",
        "x_test = np.expand_dims(x_test, -1)\n",
        "print(\"x_train shape:\", x_train.shape)\n",
        "print(x_train.shape[0], \"train samples\")\n",
        "print(x_test.shape[0], \"test samples\")\n",
        "\n",
        "\n",
        "# convert class vectors to binary class matrices\n",
        "y_train = keras.utils.to_categorical(y_train, num_classes)\n",
        "y_test = keras.utils.to_categorical(y_test, num_classes)\n",
        "\n"
      ],
      "execution_count": 9,
      "outputs": [
        {
          "output_type": "stream",
          "text": [
            "Downloading data from https://storage.googleapis.com/tensorflow/tf-keras-datasets/mnist.npz\n",
            "11493376/11490434 [==============================] - 0s 0us/step\n",
            "x_train shape: (60000, 28, 28, 1)\n",
            "60000 train samples\n",
            "10000 test samples\n"
          ],
          "name": "stdout"
        }
      ]
    },
    {
      "cell_type": "code",
      "metadata": {
        "colab": {
          "base_uri": "https://localhost:8080/"
        },
        "id": "v_-uutAPT5ts",
        "outputId": "20b9d290-68be-4a40-e6b5-66d98ff09009"
      },
      "source": [
        "model = keras.Sequential(\n",
        "    [\n",
        "        keras.Input(shape=input_shape),\n",
        "        layers.Conv2D(32, kernel_size=(3, 3), activation=\"relu\"),\n",
        "        layers.MaxPooling2D(pool_size=(2, 2)),\n",
        "        layers.Conv2D(64, kernel_size=(3, 3), activation=\"relu\"),\n",
        "        layers.MaxPooling2D(pool_size=(2, 2)),\n",
        "        layers.Flatten(),\n",
        "        layers.Dropout(0.5),\n",
        "        layers.Dense(num_classes, activation=\"softmax\"),\n",
        "    ]\n",
        ")\n",
        "\n",
        "model.summary()\n"
      ],
      "execution_count": 10,
      "outputs": [
        {
          "output_type": "stream",
          "text": [
            "WARNING:tensorflow:Please add `keras.layers.InputLayer` instead of `keras.Input` to Sequential model. `keras.Input` is intended to be used by Functional model.\n",
            "Model: \"sequential\"\n",
            "_________________________________________________________________\n",
            "Layer (type)                 Output Shape              Param #   \n",
            "=================================================================\n",
            "conv2d (Conv2D)              (None, 26, 26, 32)        320       \n",
            "_________________________________________________________________\n",
            "max_pooling2d (MaxPooling2D) (None, 13, 13, 32)        0         \n",
            "_________________________________________________________________\n",
            "conv2d_1 (Conv2D)            (None, 11, 11, 64)        18496     \n",
            "_________________________________________________________________\n",
            "max_pooling2d_1 (MaxPooling2 (None, 5, 5, 64)          0         \n",
            "_________________________________________________________________\n",
            "flatten (Flatten)            (None, 1600)              0         \n",
            "_________________________________________________________________\n",
            "dropout (Dropout)            (None, 1600)              0         \n",
            "_________________________________________________________________\n",
            "dense (Dense)                (None, 10)                16010     \n",
            "=================================================================\n",
            "Total params: 34,826\n",
            "Trainable params: 34,826\n",
            "Non-trainable params: 0\n",
            "_________________________________________________________________\n"
          ],
          "name": "stdout"
        }
      ]
    },
    {
      "cell_type": "code",
      "metadata": {
        "id": "ZAT49PDkZKPM"
      },
      "source": [
        "class F1Score(tf.keras.metrics.Metric):\n",
        "\n",
        "    def __init__(self, name='f1_score', **kwargs):\n",
        "        super().__init__(name=name, **kwargs)\n",
        "        self.f1 = self.add_weight(name='f1', initializer='zeros')\n",
        "        self.precision_fn = Precision(thresholds=0.5)\n",
        "        self.recall_fn = Recall(thresholds=0.5)\n",
        "\n",
        "    def update_state(self, y_true, y_pred, sample_weight=None):\n",
        "        p = self.precision_fn(y_true, y_pred)\n",
        "        r = self.recall_fn(y_true, y_pred)\n",
        "        self.f1 = 2 * ((p * r) / (p + r + 1e-6))\n",
        "\n",
        "    def result(self):\n",
        "        return self.f1\n",
        "\n",
        "    def reset_states(self):\n",
        "        self.f1 = 0.0"
      ],
      "execution_count": null,
      "outputs": []
    },
    {
      "cell_type": "code",
      "metadata": {
        "colab": {
          "base_uri": "https://localhost:8080/"
        },
        "id": "TKbcP4IeUAFC",
        "outputId": "ec4e6ddc-1238-4ad9-9b06-edbefd508c8b"
      },
      "source": [
        "batch_size = 128\n",
        "epochs = 15\n",
        "\n",
        "model.compile(loss=\"categorical_crossentropy\", optimizer=\"adam\", metrics=[\"accuracy\", Precision(),\n",
        "                           Recall(), F1Score()])\n",
        "\n",
        "model.fit(x_train, y_train, batch_size=batch_size, epochs=epochs, validation_split=0.1)\n",
        "\n"
      ],
      "execution_count": 11,
      "outputs": [
        {
          "output_type": "stream",
          "text": [
            "Epoch 1/15\n",
            "422/422 [==============================] - ETA: 0s - loss: 0.3743 - accuracy: 0.8850 - precision: 0.9438 - recall: 0.8349 - f1_score: 0.8860"
          ],
          "name": "stdout"
        },
        {
          "output_type": "stream",
          "text": [
            "/usr/local/lib/python3.7/dist-packages/tensorflow/python/keras/metrics.py:257: UserWarning: Metric F1Score implements a `reset_states()` method; rename it to `reset_state()` (without the final \"s\"). The name `reset_states()` has been deprecated to improve API consistency.\n",
            "  'consistency.' % (self.__class__.__name__,))\n"
          ],
          "name": "stderr"
        },
        {
          "output_type": "stream",
          "text": [
            "422/422 [==============================] - 36s 9ms/step - loss: 0.3743 - accuracy: 0.8850 - precision: 0.9438 - recall: 0.8349 - f1_score: 0.8860 - val_loss: 0.0890 - val_accuracy: 0.9757 - val_precision: 0.9813 - val_recall: 0.9700 - val_f1_score: 0.8954\n",
            "Epoch 2/15\n",
            "422/422 [==============================] - 3s 7ms/step - loss: 0.1155 - accuracy: 0.9651 - precision: 0.9712 - recall: 0.9599 - f1_score: 0.9294 - val_loss: 0.0633 - val_accuracy: 0.9822 - val_precision: 0.9859 - val_recall: 0.9800 - val_f1_score: 0.9322\n",
            "Epoch 3/15\n",
            "422/422 [==============================] - 3s 7ms/step - loss: 0.0860 - accuracy: 0.9734 - precision: 0.9775 - recall: 0.9699 - f1_score: 0.9453 - val_loss: 0.0518 - val_accuracy: 0.9872 - val_precision: 0.9888 - val_recall: 0.9852 - val_f1_score: 0.9467\n",
            "Epoch 4/15\n",
            "422/422 [==============================] - 3s 7ms/step - loss: 0.0723 - accuracy: 0.9776 - precision: 0.9803 - recall: 0.9751 - f1_score: 0.9540 - val_loss: 0.0410 - val_accuracy: 0.9897 - val_precision: 0.9915 - val_recall: 0.9885 - val_f1_score: 0.9549\n",
            "Epoch 5/15\n",
            "422/422 [==============================] - 3s 7ms/step - loss: 0.0633 - accuracy: 0.9793 - precision: 0.9826 - recall: 0.9776 - f1_score: 0.9596 - val_loss: 0.0418 - val_accuracy: 0.9882 - val_precision: 0.9896 - val_recall: 0.9868 - val_f1_score: 0.9601\n",
            "Epoch 6/15\n",
            "422/422 [==============================] - 3s 7ms/step - loss: 0.0570 - accuracy: 0.9819 - precision: 0.9838 - recall: 0.9801 - f1_score: 0.9635 - val_loss: 0.0400 - val_accuracy: 0.9880 - val_precision: 0.9903 - val_recall: 0.9880 - val_f1_score: 0.9639\n",
            "Epoch 7/15\n",
            "422/422 [==============================] - 3s 7ms/step - loss: 0.0532 - accuracy: 0.9835 - precision: 0.9852 - recall: 0.9817 - f1_score: 0.9665 - val_loss: 0.0346 - val_accuracy: 0.9908 - val_precision: 0.9923 - val_recall: 0.9897 - val_f1_score: 0.9668\n",
            "Epoch 8/15\n",
            "422/422 [==============================] - 3s 7ms/step - loss: 0.0501 - accuracy: 0.9838 - precision: 0.9857 - recall: 0.9824 - f1_score: 0.9688 - val_loss: 0.0301 - val_accuracy: 0.9922 - val_precision: 0.9937 - val_recall: 0.9915 - val_f1_score: 0.9691\n",
            "Epoch 9/15\n",
            "422/422 [==============================] - 3s 7ms/step - loss: 0.0464 - accuracy: 0.9851 - precision: 0.9866 - recall: 0.9839 - f1_score: 0.9708 - val_loss: 0.0307 - val_accuracy: 0.9912 - val_precision: 0.9918 - val_recall: 0.9900 - val_f1_score: 0.9710\n",
            "Epoch 10/15\n",
            "422/422 [==============================] - 3s 7ms/step - loss: 0.0427 - accuracy: 0.9868 - precision: 0.9881 - recall: 0.9856 - f1_score: 0.9724 - val_loss: 0.0345 - val_accuracy: 0.9903 - val_precision: 0.9913 - val_recall: 0.9897 - val_f1_score: 0.9726\n",
            "Epoch 11/15\n",
            "422/422 [==============================] - 3s 7ms/step - loss: 0.0402 - accuracy: 0.9869 - precision: 0.9880 - recall: 0.9858 - f1_score: 0.9738 - val_loss: 0.0303 - val_accuracy: 0.9912 - val_precision: 0.9918 - val_recall: 0.9903 - val_f1_score: 0.9740\n",
            "Epoch 12/15\n",
            "422/422 [==============================] - 3s 7ms/step - loss: 0.0378 - accuracy: 0.9878 - precision: 0.9890 - recall: 0.9867 - f1_score: 0.9750 - val_loss: 0.0300 - val_accuracy: 0.9923 - val_precision: 0.9928 - val_recall: 0.9913 - val_f1_score: 0.9752\n",
            "Epoch 13/15\n",
            "422/422 [==============================] - 3s 7ms/step - loss: 0.0356 - accuracy: 0.9888 - precision: 0.9898 - recall: 0.9879 - f1_score: 0.9761 - val_loss: 0.0287 - val_accuracy: 0.9917 - val_precision: 0.9920 - val_recall: 0.9912 - val_f1_score: 0.9762\n",
            "Epoch 14/15\n",
            "422/422 [==============================] - 3s 7ms/step - loss: 0.0365 - accuracy: 0.9880 - precision: 0.9891 - recall: 0.9870 - f1_score: 0.9770 - val_loss: 0.0296 - val_accuracy: 0.9925 - val_precision: 0.9932 - val_recall: 0.9922 - val_f1_score: 0.9771\n",
            "Epoch 15/15\n",
            "422/422 [==============================] - 3s 7ms/step - loss: 0.0329 - accuracy: 0.9895 - precision: 0.9905 - recall: 0.9884 - f1_score: 0.9779 - val_loss: 0.0292 - val_accuracy: 0.9922 - val_precision: 0.9928 - val_recall: 0.9920 - val_f1_score: 0.9780\n"
          ],
          "name": "stdout"
        },
        {
          "output_type": "execute_result",
          "data": {
            "text/plain": [
              "<tensorflow.python.keras.callbacks.History at 0x7f60911c80d0>"
            ]
          },
          "metadata": {
            "tags": []
          },
          "execution_count": 11
        }
      ]
    },
    {
      "cell_type": "code",
      "metadata": {
        "id": "qTPmg-fzVok_"
      },
      "source": [
        "score = model.evaluate(x_test, y_test, verbose=0)\n",
        "print(\"Test loss:\", score[0])\n",
        "print(\"Test accuracy:\", score[1])\n"
      ],
      "execution_count": null,
      "outputs": []
    }
  ]
}